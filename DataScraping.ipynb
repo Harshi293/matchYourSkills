{
 "cells": [
  {
   "cell_type": "markdown",
   "id": "184bfe76",
   "metadata": {},
   "source": [
    "# Data Scraping - LinkedIn data"
   ]
  },
  {
   "cell_type": "code",
   "execution_count": 85,
   "id": "8d030824",
   "metadata": {},
   "outputs": [],
   "source": [
    "from selenium import webdriver\n",
    "import time\n",
    "import pandas as pd\n",
    "import csv\n",
    "import re\n",
    "import spacy\n",
    "import sys\n",
    "from importlib import reload\n",
    "reload(sys)\n",
    "from io import StringIO\n",
    "from pdfminer.pdfinterp import PDFResourceManager, PDFPageInterpreter\n",
    "from pdfminer.converter import TextConverter\n",
    "from pdfminer.layout import LAParams\n",
    "from pdfminer.pdfpage import PDFPage\n",
    "import os\n",
    "import sys, getopt\n",
    "import numpy as np\n",
    "from bs4 import BeautifulSoup\n",
    "from urllib.request import urlopen\n",
    "import nltk\n",
    "from nltk.corpus import stopwords\n",
    "from nltk.tokenize import word_tokenize, sent_tokenize\n",
    "from sklearn.feature_extraction.text import TfidfVectorizer\n",
    "import string\n",
    "from sklearn.feature_extraction.text import TfidfVectorizer\n",
    "stop_words = set(stopwords.words('english'))"
   ]
  },
  {
   "cell_type": "code",
   "execution_count": 88,
   "id": "29e9561f",
   "metadata": {},
   "outputs": [],
   "source": [
    "import warnings\n",
    "warnings.filterwarnings('ignore')"
   ]
  },
  {
   "cell_type": "code",
   "execution_count": 90,
   "id": "c43fd037",
   "metadata": {},
   "outputs": [
    {
     "name": "stdout",
     "output_type": "stream",
     "text": [
      "Data Scraped Successfully\n"
     ]
    }
   ],
   "source": [
    "url =\"https://www.linkedin.com/jobs/Engineering-intern-jobs?position=1&pageNum=0\"\n",
    "wd = webdriver.Chrome(executable_path=\"C:/Users/messi/OneDrive/Desktop/Desktop/chromedriver.exe\")\n",
    "wd.get(url)\n",
    "\n",
    "\n",
    "page_num = 0\n",
    "\n",
    "no_of_jobs = int(str(wd.find_element_by_css_selector('h1>span').get_attribute('innerText')).replace('+', '').replace(',', ''))\n",
    "\n",
    "#print(no_of_jobs)\n",
    "if no_of_jobs > 150 :\n",
    "    no_of_jobs = 150\n",
    "\n",
    "for i in range(6):\n",
    "    wd.execute_script(\"window.scrollTo(0, document.body.scrollHeight);\")\n",
    "    i = i + 1\n",
    "    try:\n",
    "        wd.find_element_by_xpath('/html/body/main/div/section/button').click()\n",
    "        wd.find_element_by_class_name('infinite-scroller__show-more-button.infinite').click()\n",
    "        if(wd.find_element_by_class_name('infinite-scroller__show-more-button.infinite')):\n",
    "            page_num = page_num + 1\n",
    "        time.sleep(0.5)\n",
    "    except:\n",
    "        pass\n",
    "        time.sleep(0.5)\n",
    "#print(\"page_num:\",page_num)\n",
    "\n",
    "    \n",
    "job_lists = wd.find_element_by_class_name('jobs-search__results-list')\n",
    "jobs = job_lists.find_elements_by_tag_name('li')\n",
    "\n",
    "\n",
    "job_id= []\n",
    "job_title = []\n",
    "company_name = []\n",
    "location = []\n",
    "date = []\n",
    "job_link = []\n",
    "\n",
    "\n",
    "#for all the job take job data - Title, job_id, link, posted date, job location\n",
    "for job in jobs:\n",
    "        job_id0 = str(job.find_element_by_css_selector('div').get_attribute('data-entity-urn')).replace(\"urn:li:jobPosting:\", \"\")\n",
    "        job_id.append(job_id0)\n",
    "\n",
    "\n",
    "        job_title0 = job.find_element_by_css_selector('h3').get_attribute('innerText')\n",
    "        job_title.append(job_title0)\n",
    "\n",
    "        company_name0 = job.find_element_by_css_selector('h4').get_attribute('innerText')\n",
    "        company_name.append(company_name0)\n",
    "\n",
    "        location0 = job.find_element_by_css_selector('[class=\"job-search-card__location\"]').get_attribute('innerText')\n",
    "        location.append(location0)\n",
    "\n",
    "        date0 = job.find_element_by_css_selector('div>div>time').get_attribute('datetime')\n",
    "        date.append(date0)\n",
    "\n",
    "        job_link0 = job.find_element_by_css_selector('a').get_attribute('href')\n",
    "        job_link.append(job_link0)\n",
    "jd = []\n",
    "\n",
    "# We are trying open a new tab for each job link to scrape detailed job decription\n",
    "for i in range(len(job_link)):\n",
    "    try:\n",
    "        wd1 = webdriver.Chrome(executable_path=\"C:/Users/messi/OneDrive/Desktop/Desktop/chromedriver.exe\") \n",
    "        wd1.get(job_link[i])\n",
    "        jd0= wd1.find_element_by_css_selector('[class=\"show-more-less-html__markup show-more-less-html__markup--clamp-after-5\"]').get_attribute('innerText')\n",
    "        jd.append(jd0)\n",
    "        time.sleep(0.2)\n",
    "    except:\n",
    "        wd1.get(job_link[i])\n",
    "        jd0= wd1.find_element_by_css_selector('[class=\"show-more-less-html__markup show-more-less-html__markup--clamp-after-5\"]').get_attribute('innerText')\n",
    "        jd.append(jd0)\n",
    "        time.sleep(0.2)\n",
    "    wd1.quit()\n",
    "\n",
    "#print(len(jd)) \n",
    "\n",
    "\n",
    "# Store it in Dataframe and write it in excel file\n",
    "job_data = pd.DataFrame({'ID': job_id,'Date': date,'Company': company_name,'Title': job_title,'Location': location, 'Link': job_link, 'Job Description': jd})\n",
    "job_data.to_excel('LinkedIn Job.xlsx', index = False)\n",
    "\n",
    "print(\"Data Scraped Successfully\")"
   ]
  },
  {
   "cell_type": "code",
   "execution_count": null,
   "id": "451145f7",
   "metadata": {},
   "outputs": [],
   "source": []
  }
 ],
 "metadata": {
  "kernelspec": {
   "display_name": "Python 3 (ipykernel)",
   "language": "python",
   "name": "python3"
  },
  "language_info": {
   "codemirror_mode": {
    "name": "ipython",
    "version": 3
   },
   "file_extension": ".py",
   "mimetype": "text/x-python",
   "name": "python",
   "nbconvert_exporter": "python",
   "pygments_lexer": "ipython3",
   "version": "3.9.7"
  }
 },
 "nbformat": 4,
 "nbformat_minor": 5
}
